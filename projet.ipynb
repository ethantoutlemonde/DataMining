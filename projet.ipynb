{
  "cells": [
    {
      "cell_type": "code",
      "execution_count": 5,
      "metadata": {
        "colab": {
          "base_uri": "https://localhost:8080/",
          "height": 1000
        },
        "id": "wnoKrZ9vsch1",
        "outputId": "e1867b48-ba7c-4803-f65b-444ce292c8cd"
      },
      "outputs": [
        {
          "name": "stdout",
          "output_type": "stream",
          "text": [
            "Précision du modèle: 0.65\n",
            "              precision    recall  f1-score   support\n",
            "\n",
            "         VTT       0.63      1.00      0.77        60\n",
            "          pd       1.00      0.12      0.22        40\n",
            "\n",
            "    accuracy                           0.65       100\n",
            "   macro avg       0.82      0.56      0.50       100\n",
            "weighted avg       0.78      0.65      0.55       100\n",
            "\n"
          ]
        }
      ],
      "source": [
        "import pandas as pd\n",
        "import numpy as np\n",
        "import matplotlib.pyplot as plt\n",
        "import seaborn as sns\n",
        "from sklearn.model_selection import train_test_split\n",
        "from sklearn.linear_model import LogisticRegression\n",
        "from sklearn.metrics import accuracy_score, classification_report\n",
        "from sklearn.preprocessing import LabelEncoder\n",
        "\n",
        "#----------------------------CLEAN DATA----------------------------------\n",
        "\n",
        "df = pd.read_csv('Geo/geometrics.mtb-news.de.csv', on_bad_lines=\"skip\")\n",
        "colonnesTRI = ['Brand', 'Model','Year','Frame Size','Wheel Size','Reach','Stack','Head Tube Angle','Seat Tube Angle Effective','Top Tube Length','Head Tube Length','Seat Tube Length','Chainstay Length','Wheelbase']\n",
        "dfClean = df[colonnesTRI]\n",
        "dfClean = dfClean.dropna()\n",
        "\n",
        "\n",
        "\n",
        "dfClean['Category'] = np.where(dfClean['Head Tube Angle'] > 66, 'pd', 'VTT')\n",
        "\n",
        "X = dfClean[['Year', 'Top Tube Length']].values\n",
        "y = dfClean['Category'].values\n",
        "X_train, X_test, y_train, y_test = train_test_split(X, y, test_size=100)\n",
        "model = LogisticRegression()\n",
        "model.fit(X_train, y_train)\n",
        "y_pred = model.predict(X_test)\n",
        "accuracy = accuracy_score(y_test, y_pred)\n",
        "print(f'Précision du modèle: {accuracy}')\n",
        "\n",
        "\n",
        "\n",
        "\n",
        "\n",
        "\n",
        "\n",
        "\n",
        "\n",
        "\n"
      ]
    }
  ],
  "metadata": {
    "colab": {
      "provenance": [],
      "toc_visible": true
    },
    "kernelspec": {
      "display_name": "Python 3",
      "name": "python3"
    },
    "language_info": {
      "codemirror_mode": {
        "name": "ipython",
        "version": 3
      },
      "file_extension": ".py",
      "mimetype": "text/x-python",
      "name": "python",
      "nbconvert_exporter": "python",
      "pygments_lexer": "ipython3",
      "version": "3.12.0"
    }
  },
  "nbformat": 4,
  "nbformat_minor": 0
}

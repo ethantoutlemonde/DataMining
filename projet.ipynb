{
  "cells": [
    {
      "cell_type": "code",
      "execution_count": 1,
      "metadata": {
        "colab": {
          "base_uri": "https://localhost:8080/",
          "height": 1000
        },
        "id": "wnoKrZ9vsch1",
        "outputId": "e1867b48-ba7c-4803-f65b-444ce292c8cd"
      },
      "outputs": [
        {
          "name": "stdout",
          "output_type": "stream",
          "text": [
            "Accuracy: 0.9783989834815756\n",
            "Classification Report:\n",
            "              precision    recall  f1-score   support\n",
            "\n",
            "   Gravel/CX       0.86      0.92      0.89        64\n",
            "    Mountain       1.00      1.00      1.00       668\n",
            "       Other       1.00      0.75      0.86         8\n",
            "        Road       0.84      0.79      0.81        47\n",
            "\n",
            "    accuracy                           0.98       787\n",
            "   macro avg       0.92      0.86      0.89       787\n",
            "weighted avg       0.98      0.98      0.98       787\n",
            "\n",
            "Predicted Category 1: ['Mountain']\n"
          ]
        }
      ],
      "source": [
        "import pandas as pd\n",
        "import matplotlib.pyplot as plt\n",
        "import seaborn as sns\n",
        "from sklearn.model_selection import train_test_split\n",
        "from sklearn.ensemble import RandomForestClassifier\n",
        "from sklearn.metrics import classification_report, accuracy_score\n",
        "\n",
        "df = pd.read_csv('Geo/geometrics.mtb-news.de.csv', on_bad_lines=\"skip\")\n",
        "colonnesTRI = ['Wheel Size', 'Reach', 'Stack', 'Head Tube Angle',\n",
        "              'Seat Tube Angle Effective', 'Top Tube Length', 'Head Tube Length',\n",
        "              'Seat Tube Length', 'Chainstay Length', 'Wheelbase', 'Category']\n",
        "\n",
        "dfClean = df[colonnesTRI].dropna()\n",
        "X = dfClean.drop('Category', axis=1)\n",
        "y = dfClean['Category']\n",
        "X_encoded = pd.get_dummies(X, drop_first=True)\n",
        "X = pd.concat([X.drop(X.select_dtypes(exclude=['number']).columns, axis=1), X_encoded], axis=1)\n",
        "X_train, X_test, y_train, y_test = train_test_split(X, y, test_size=0.4, random_state=69, stratify=y)\n",
        "model = RandomForestClassifier(random_state=69)\n",
        "model.fit(X_train, y_train)\n",
        "\n",
        "predictions = model.predict(X_test)\n",
        "accuracy = accuracy_score(y_test, predictions)\n",
        "report = classification_report(y_test, predictions)\n",
        "print(f'Accuracy: {accuracy}')\n",
        "\n",
        "# Heatmap rapport de classification\n",
        "classification_report_dict = classification_report(y_test, predictions, output_dict=True)\n",
        "class_report_df = pd.DataFrame.from_dict(classification_report_dict).drop(index='support')\n",
        "plt.figure(figsize=(8, 6))\n",
        "sns.heatmap(class_report_df.T, annot=True, cmap='viridis')\n",
        "plt.title('Classification Report')\n",
        "plt.show()\n",
        "\n",
        "# CrÃ©er un graphique camembert\n",
        "category_counts = dfClean['Category'].value_counts()\n",
        "plt.figure(figsize=(8, 8))\n",
        "plt.pie(category_counts, labels=category_counts.index, autopct='%1.1f%%', startangle=140)\n",
        "plt.title('Repartition categories velos')\n",
        "plt.show()\n",
        "\n",
        "\n",
        "wheelSize = float(input(\"Wheel Size : \"))\n",
        "reach = float(input(\"Reach : \"))\n",
        "stack = float(input(\"Stack : \"))\n",
        "headTubeAngle = float(input(\"Head Tube Angle : \"))\n",
        "seatTubeAngleEffective = float(input(\"Seat Tube Angle Effective : \"))\n",
        "topTubeLength = float(input(\"Top Tube Length : \"))\n",
        "headTubeLength = float(input(\"Head Tube Length : \"))\n",
        "seatTubeLength = float(input(\"Seat Tube Length : \"))\n",
        "chainstayLength = float(input(\"Chainstay Length : \"))\n",
        "wheelbase = float(input(\"Wheelbase : \"))\n",
        "\n",
        "Xnew1_values = {'Wheel Size': wheelSize, 'Reach': reach, 'Stack': stack, 'Head Tube Angle': headTubeAngle,\n",
        "               'Seat Tube Angle Effective': seatTubeAngleEffective, 'Top Tube Length': topTubeLength, 'Head Tube Length': headTubeLength,\n",
        "               'Seat Tube Length': seatTubeLength, 'Chainstay Length': chainstayLength, 'Wheelbase': wheelbase}\n",
        "\n",
        "plt.figure(figsize=(8, 6))\n",
        "plt.table(cellText=[[key, Xnew1_values[key]] for key in Xnew1_values.keys()],\n",
        "          colLabels=['Feature', 'User Input'],\n",
        "          cellLoc='center', loc='center')\n",
        "plt.axis('off')\n",
        "plt.title('Recapitulatif saisies utilisateur')\n",
        "plt.show()\n",
        "\n",
        "Xnew1 = pd.DataFrame([Xnew1_values], dtype=float)\n",
        "Xnew1 = Xnew1.reindex(columns=X.columns, fill_value=0) # 0 si colones vides / non presentes dans Xnew1\n",
        "predicted_category1 = model.predict(Xnew1)\n",
        "print(\"Predicted :\", predicted_category1)\n",
        "\n",
        "del Xnew1\n",
        "\n",
        "\n",
        "\n",
        "# 29, 470, 660, 64.5, 72, 665, 120, 460, 437.5, 1235 -> scout\n",
        "# 28, 410.1, 651.7, 73.4, 72, 620, 239, 600, 411, 1040 -> pina\n",
        "# 29.0, 411.0, 591.0, 71.5, 73.5, 586.0, 163.0, 510.0, 425.0, 1057.0 -> grail"
      ]
    }
  ],
  "metadata": {
    "colab": {
      "provenance": [],
      "toc_visible": true
    },
    "kernelspec": {
      "display_name": "Python 3",
      "name": "python3"
    },
    "language_info": {
      "codemirror_mode": {
        "name": "ipython",
        "version": 3
      },
      "file_extension": ".py",
      "mimetype": "text/x-python",
      "name": "python",
      "nbconvert_exporter": "python",
      "pygments_lexer": "ipython3",
      "version": "3.7.7"
    }
  },
  "nbformat": 4,
  "nbformat_minor": 0
}

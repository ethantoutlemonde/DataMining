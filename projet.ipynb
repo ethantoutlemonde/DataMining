{
  "cells": [
    {
      "cell_type": "code",
      "execution_count": 39,
      "metadata": {
        "colab": {
          "base_uri": "https://localhost:8080/",
          "height": 1000
        },
        "id": "wnoKrZ9vsch1",
        "outputId": "e1867b48-ba7c-4803-f65b-444ce292c8cd"
      },
      "outputs": [
        {
          "name": "stdout",
          "output_type": "stream",
          "text": [
            "Accuracy: 0.9783989834815756\n",
            "Classification Report:\n",
            "              precision    recall  f1-score   support\n",
            "\n",
            "   Gravel/CX       0.86      0.92      0.89        64\n",
            "    Mountain       1.00      1.00      1.00       668\n",
            "       Other       1.00      0.75      0.86         8\n",
            "        Road       0.84      0.79      0.81        47\n",
            "\n",
            "    accuracy                           0.98       787\n",
            "   macro avg       0.92      0.86      0.89       787\n",
            "weighted avg       0.98      0.98      0.98       787\n",
            "\n",
            "Predicted Category 1: ['Gravel/CX']\n"
          ]
        }
      ],
      "source": [
        "import pandas as pd\n",
        "from sklearn.model_selection import train_test_split\n",
        "from sklearn.ensemble import RandomForestClassifier\n",
        "from sklearn.metrics import classification_report, accuracy_score\n",
        "\n",
        "# lire donnees\n",
        "df = pd.read_csv('Geo/geometrics.mtb-news.de.csv', on_bad_lines=\"skip\")\n",
        "\n",
        "# selectionner colonnes\n",
        "colonnesTRI = ['Wheel Size', 'Reach', 'Stack', 'Head Tube Angle',\n",
        "              'Seat Tube Angle Effective', 'Top Tube Length', 'Head Tube Length',\n",
        "              'Seat Tube Length', 'Chainstay Length', 'Wheelbase', 'Category']\n",
        "\n",
        "dfClean = df[colonnesTRI].dropna()\n",
        "X = dfClean.drop('Category', axis=1)\n",
        "y = dfClean['Category']\n",
        "\n",
        "X_encoded = pd.get_dummies(X, drop_first=True)\n",
        "X = pd.concat([X.drop(X.select_dtypes(exclude=['number']).columns, axis=1), X_encoded], axis=1)\n",
        "\n",
        "X_train, X_test, y_train, y_test = train_test_split(X, y, test_size=0.4, random_state=69, stratify=y)\n",
        "\n",
        "model = RandomForestClassifier(random_state=69)\n",
        "model.fit(X_train, y_train)\n",
        "\n",
        "# predic / eval\n",
        "predictions = model.predict(X_test)\n",
        "\n",
        "accuracy = accuracy_score(y_test, predictions)\n",
        "report = classification_report(y_test, predictions)\n",
        "\n",
        "print(f'Accuracy: {accuracy}')\n",
        "print(f'Classification Report:\\n{report}')\n",
        "\n",
        "# Utilisez Xnew pour plusieurs prédictions\n",
        "Xnew1_values = {'Wheel Size': 29, 'Reach': 411, 'Stack': 590, 'Head Tube Angle': 71,\n",
        "               'Seat Tube Angle Effective': 73.5, 'Top Tube Length': 586, 'Head Tube Length': 163,\n",
        "               'Seat Tube Length': 510, 'Chainstay Length': 425, 'Wheelbase': 1057}\n",
        "\n",
        "# Créez un DataFrame à partir du dictionnaire\n",
        "Xnew1 = pd.DataFrame([Xnew1_values], dtype=float)\n",
        "\n",
        "# Complétez avec des zéros pour les colonnes non présentes dans Xnew1_values\n",
        "Xnew1 = Xnew1.reindex(columns=X.columns, fill_value=0)\n",
        "\n",
        "# Effectuez la prédiction\n",
        "predicted_category1 = model.predict(Xnew1)\n",
        "print(\"Predicted Category 1:\", predicted_category1)\n",
        "\n",
        "# Supprimez le DataFrame temporaire\n",
        "del Xnew1\n"
      ]
    }
  ],
  "metadata": {
    "colab": {
      "provenance": [],
      "toc_visible": true
    },
    "kernelspec": {
      "display_name": "Python 3",
      "name": "python3"
    },
    "language_info": {
      "codemirror_mode": {
        "name": "ipython",
        "version": 3
      },
      "file_extension": ".py",
      "mimetype": "text/x-python",
      "name": "python",
      "nbconvert_exporter": "python",
      "pygments_lexer": "ipython3",
      "version": "3.12.0"
    }
  },
  "nbformat": 4,
  "nbformat_minor": 0
}

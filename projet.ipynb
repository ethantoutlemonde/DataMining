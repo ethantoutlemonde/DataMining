{
  "cells": [
    {
      "cell_type": "code",
      "execution_count": 38,
      "metadata": {
        "colab": {
          "base_uri": "https://localhost:8080/",
          "height": 1000
        },
        "id": "wnoKrZ9vsch1",
        "outputId": "e1867b48-ba7c-4803-f65b-444ce292c8cd"
      },
      "outputs": [
        {
          "name": "stdout",
          "output_type": "stream",
          "text": [
            "Accuracy: 0.9828178694158075\n",
            "Classification Report:\n",
            "              precision    recall  f1-score   support\n",
            "\n",
            "   Gravel/CX       0.93      0.93      0.93        30\n",
            "    Mountain       1.00      1.00      1.00       238\n",
            "       Other       0.00      0.00      0.00         1\n",
            "        Road       0.87      0.91      0.89        22\n",
            "\n",
            "    accuracy                           0.98       291\n",
            "   macro avg       0.70      0.71      0.71       291\n",
            "weighted avg       0.98      0.98      0.98       291\n",
            "\n"
          ]
        },
        {
          "name": "stderr",
          "output_type": "stream",
          "text": [
            "c:\\Users\\ethan\\AppData\\Local\\Programs\\Python\\Python312\\Lib\\site-packages\\sklearn\\metrics\\_classification.py:1471: UndefinedMetricWarning: Precision and F-score are ill-defined and being set to 0.0 in labels with no predicted samples. Use `zero_division` parameter to control this behavior.\n",
            "  _warn_prf(average, modifier, msg_start, len(result))\n",
            "c:\\Users\\ethan\\AppData\\Local\\Programs\\Python\\Python312\\Lib\\site-packages\\sklearn\\metrics\\_classification.py:1471: UndefinedMetricWarning: Precision and F-score are ill-defined and being set to 0.0 in labels with no predicted samples. Use `zero_division` parameter to control this behavior.\n",
            "  _warn_prf(average, modifier, msg_start, len(result))\n",
            "c:\\Users\\ethan\\AppData\\Local\\Programs\\Python\\Python312\\Lib\\site-packages\\sklearn\\metrics\\_classification.py:1471: UndefinedMetricWarning: Precision and F-score are ill-defined and being set to 0.0 in labels with no predicted samples. Use `zero_division` parameter to control this behavior.\n",
            "  _warn_prf(average, modifier, msg_start, len(result))\n"
          ]
        }
      ],
      "source": [
        "import pandas as pd\n",
        "from sklearn.model_selection import train_test_split\n",
        "from sklearn.ensemble import RandomForestClassifier\n",
        "from sklearn.metrics import classification_report, accuracy_score\n",
        "\n",
        "# lire donnees\n",
        "df = pd.read_csv('Geo/geometrics.mtb-news.de.csv', on_bad_lines=\"skip\")\n",
        "\n",
        "# selectionner colonnes\n",
        "colonnesTRI = ['Year', 'Frame Size', 'Wheel Size', 'Reach', 'Stack', 'Head Tube Angle',\n",
        "              'Seat Tube Angle Effective', 'Top Tube Length', 'Head Tube Length',\n",
        "              'Seat Tube Length', 'Chainstay Length', 'Wheelbase', 'Category']\n",
        "\n",
        "dfClean = df[colonnesTRI].dropna()\n",
        "\n",
        "# separer caracteristiques et cible\n",
        "X = dfClean.drop('Category', axis=1)\n",
        "y = dfClean['Category']\n",
        "\n",
        "# encodage one-hot pour variables categorielles\n",
        "X_encoded = pd.get_dummies(X, drop_first=True)\n",
        "\n",
        "# concatener donnees encodees avec les colonnes restantes\n",
        "X = pd.concat([X.drop(X.select_dtypes(exclude=['number']).columns, axis=1), X_encoded], axis=1)\n",
        "\n",
        "# diviser en ensembles\n",
        "X_train, X_test, y_train, y_test = train_test_split(X, y, test_size=0.2, random_state=69, stratify=y)\n",
        "\n",
        "# initialiser / entrainer\n",
        "model = RandomForestClassifier(random_state=42)\n",
        "model.fit(X_train, y_train)\n",
        "\n",
        "# predic / eval\n",
        "predictions = model.predict(X_test)\n",
        "\n",
        "accuracy = accuracy_score(y_test, predictions)\n",
        "report = classification_report(y_test, predictions)\n",
        "\n",
        "print(f'Accuracy: {accuracy}')\n",
        "print(f'Classification Report:\\n{report}')\n"
      ]
    }
  ],
  "metadata": {
    "colab": {
      "provenance": [],
      "toc_visible": true
    },
    "kernelspec": {
      "display_name": "Python 3",
      "name": "python3"
    },
    "language_info": {
      "codemirror_mode": {
        "name": "ipython",
        "version": 3
      },
      "file_extension": ".py",
      "mimetype": "text/x-python",
      "name": "python",
      "nbconvert_exporter": "python",
      "pygments_lexer": "ipython3",
      "version": "3.12.0"
    }
  },
  "nbformat": 4,
  "nbformat_minor": 0
}
